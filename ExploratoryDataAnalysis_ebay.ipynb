{
  "nbformat": 4,
  "nbformat_minor": 0,
  "metadata": {
    "colab": {
      "name": "ExploratoryDataAnalysis_ebay.ipynb",
      "provenance": []
    },
    "kernelspec": {
      "name": "python3",
      "display_name": "Python 3"
    },
    "language_info": {
      "name": "python"
    }
  },
  "cells": [
    {
      "cell_type": "code",
      "metadata": {
        "id": "FWAION0u1MCA"
      },
      "source": [
        "# Import Libraries\n",
        "import os\n",
        "import subprocess\n",
        "import stat\n",
        "import numpy as np\n",
        "import pandas as pd\n",
        "import seaborn as sns\n",
        "import matplotlib.pyplot as plt\n",
        "from datetime import datetime\n",
        "%matplotlib inline"
      ],
      "execution_count": 2,
      "outputs": []
    },
    {
      "cell_type": "code",
      "metadata": {
        "colab": {
          "base_uri": "https://localhost:8080/",
          "height": 394
        },
        "id": "JW_j5nKO1S5U",
        "outputId": "b4323fa9-e6c1-43f3-8174-d3efcd45ef02"
      },
      "source": [
        "#Loading the dataset\n",
        "car_data = pd.read_csv('autos.csv')\n",
        "car_data.head(5)"
      ],
      "execution_count": 3,
      "outputs": [
        {
          "output_type": "execute_result",
          "data": {
            "text/html": [
              "<div>\n",
              "<style scoped>\n",
              "    .dataframe tbody tr th:only-of-type {\n",
              "        vertical-align: middle;\n",
              "    }\n",
              "\n",
              "    .dataframe tbody tr th {\n",
              "        vertical-align: top;\n",
              "    }\n",
              "\n",
              "    .dataframe thead th {\n",
              "        text-align: right;\n",
              "    }\n",
              "</style>\n",
              "<table border=\"1\" class=\"dataframe\">\n",
              "  <thead>\n",
              "    <tr style=\"text-align: right;\">\n",
              "      <th></th>\n",
              "      <th>dateCrawled</th>\n",
              "      <th>name</th>\n",
              "      <th>seller</th>\n",
              "      <th>offerType</th>\n",
              "      <th>price</th>\n",
              "      <th>abtest</th>\n",
              "      <th>vehicleType</th>\n",
              "      <th>yearOfRegistration</th>\n",
              "      <th>gearbox</th>\n",
              "      <th>powerPS</th>\n",
              "      <th>model</th>\n",
              "      <th>kilometer</th>\n",
              "      <th>monthOfRegistration</th>\n",
              "      <th>fuelType</th>\n",
              "      <th>brand</th>\n",
              "      <th>notRepairedDamage</th>\n",
              "      <th>dateCreated</th>\n",
              "      <th>postalCode</th>\n",
              "      <th>lastSeen</th>\n",
              "      <th>yearOfCreation</th>\n",
              "      <th>yearCrawled</th>\n",
              "      <th>monthOfCreation</th>\n",
              "      <th>monthCrawled</th>\n",
              "      <th>NoOfDaysOnline</th>\n",
              "      <th>NoOfHrsOnline</th>\n",
              "      <th>yearsOld</th>\n",
              "      <th>monthsOld</th>\n",
              "    </tr>\n",
              "  </thead>\n",
              "  <tbody>\n",
              "    <tr>\n",
              "      <th>0</th>\n",
              "      <td>2016-03-24 11:52:17</td>\n",
              "      <td>Golf_3_1.6</td>\n",
              "      <td>privat</td>\n",
              "      <td>Offer</td>\n",
              "      <td>480</td>\n",
              "      <td>test</td>\n",
              "      <td>Other</td>\n",
              "      <td>1993</td>\n",
              "      <td>manuell</td>\n",
              "      <td>0</td>\n",
              "      <td>golf</td>\n",
              "      <td>150000</td>\n",
              "      <td>Jan</td>\n",
              "      <td>Gasoline</td>\n",
              "      <td>volkswagen</td>\n",
              "      <td>Other</td>\n",
              "      <td>2016-03-24 00:00:00</td>\n",
              "      <td>70435</td>\n",
              "      <td>2016-04-07 03:16:57</td>\n",
              "      <td>2016</td>\n",
              "      <td>2016</td>\n",
              "      <td>March</td>\n",
              "      <td>March</td>\n",
              "      <td>14</td>\n",
              "      <td>3</td>\n",
              "      <td>23</td>\n",
              "      <td>11</td>\n",
              "    </tr>\n",
              "    <tr>\n",
              "      <th>1</th>\n",
              "      <td>2016-03-24 10:58:45</td>\n",
              "      <td>A5_Sportback_2.7_Tdi</td>\n",
              "      <td>privat</td>\n",
              "      <td>Offer</td>\n",
              "      <td>18300</td>\n",
              "      <td>test</td>\n",
              "      <td>coupe</td>\n",
              "      <td>2011</td>\n",
              "      <td>manuell</td>\n",
              "      <td>190</td>\n",
              "      <td>Other</td>\n",
              "      <td>125000</td>\n",
              "      <td>May</td>\n",
              "      <td>Diesel</td>\n",
              "      <td>audi</td>\n",
              "      <td>Yes</td>\n",
              "      <td>2016-03-24 00:00:00</td>\n",
              "      <td>66954</td>\n",
              "      <td>2016-04-07 01:46:50</td>\n",
              "      <td>2016</td>\n",
              "      <td>2016</td>\n",
              "      <td>March</td>\n",
              "      <td>March</td>\n",
              "      <td>14</td>\n",
              "      <td>1</td>\n",
              "      <td>5</td>\n",
              "      <td>7</td>\n",
              "    </tr>\n",
              "    <tr>\n",
              "      <th>2</th>\n",
              "      <td>2016-03-14 12:52:21</td>\n",
              "      <td>Jeep_Grand_Cherokee_\"Overland\"</td>\n",
              "      <td>privat</td>\n",
              "      <td>Offer</td>\n",
              "      <td>9800</td>\n",
              "      <td>test</td>\n",
              "      <td>suv</td>\n",
              "      <td>2004</td>\n",
              "      <td>automatik</td>\n",
              "      <td>163</td>\n",
              "      <td>grand</td>\n",
              "      <td>125000</td>\n",
              "      <td>Aug</td>\n",
              "      <td>Diesel</td>\n",
              "      <td>jeep</td>\n",
              "      <td>Other</td>\n",
              "      <td>2016-03-14 00:00:00</td>\n",
              "      <td>90480</td>\n",
              "      <td>2016-04-05 12:47:46</td>\n",
              "      <td>2016</td>\n",
              "      <td>2016</td>\n",
              "      <td>March</td>\n",
              "      <td>March</td>\n",
              "      <td>22</td>\n",
              "      <td>12</td>\n",
              "      <td>12</td>\n",
              "      <td>4</td>\n",
              "    </tr>\n",
              "    <tr>\n",
              "      <th>3</th>\n",
              "      <td>2016-03-17 16:54:04</td>\n",
              "      <td>GOLF_4_1_4__3TÜRER</td>\n",
              "      <td>privat</td>\n",
              "      <td>Offer</td>\n",
              "      <td>1500</td>\n",
              "      <td>test</td>\n",
              "      <td>kleinwagen</td>\n",
              "      <td>2001</td>\n",
              "      <td>manuell</td>\n",
              "      <td>75</td>\n",
              "      <td>golf</td>\n",
              "      <td>150000</td>\n",
              "      <td>Jul</td>\n",
              "      <td>Gasoline</td>\n",
              "      <td>volkswagen</td>\n",
              "      <td>No</td>\n",
              "      <td>2016-03-17 00:00:00</td>\n",
              "      <td>91074</td>\n",
              "      <td>2016-03-17 17:40:17</td>\n",
              "      <td>2016</td>\n",
              "      <td>2016</td>\n",
              "      <td>March</td>\n",
              "      <td>March</td>\n",
              "      <td>0</td>\n",
              "      <td>17</td>\n",
              "      <td>15</td>\n",
              "      <td>5</td>\n",
              "    </tr>\n",
              "    <tr>\n",
              "      <th>4</th>\n",
              "      <td>2016-03-31 17:25:20</td>\n",
              "      <td>Skoda_Fabia_1.4_TDI_PD_Classic</td>\n",
              "      <td>privat</td>\n",
              "      <td>Offer</td>\n",
              "      <td>3600</td>\n",
              "      <td>test</td>\n",
              "      <td>kleinwagen</td>\n",
              "      <td>2008</td>\n",
              "      <td>manuell</td>\n",
              "      <td>69</td>\n",
              "      <td>fabia</td>\n",
              "      <td>90000</td>\n",
              "      <td>Jul</td>\n",
              "      <td>Diesel</td>\n",
              "      <td>skoda</td>\n",
              "      <td>No</td>\n",
              "      <td>2016-03-31 00:00:00</td>\n",
              "      <td>60437</td>\n",
              "      <td>2016-04-06 10:17:21</td>\n",
              "      <td>2016</td>\n",
              "      <td>2016</td>\n",
              "      <td>March</td>\n",
              "      <td>March</td>\n",
              "      <td>6</td>\n",
              "      <td>10</td>\n",
              "      <td>8</td>\n",
              "      <td>5</td>\n",
              "    </tr>\n",
              "  </tbody>\n",
              "</table>\n",
              "</div>"
            ],
            "text/plain": [
              "           dateCrawled                            name  ... yearsOld monthsOld\n",
              "0  2016-03-24 11:52:17                      Golf_3_1.6  ...       23        11\n",
              "1  2016-03-24 10:58:45            A5_Sportback_2.7_Tdi  ...        5         7\n",
              "2  2016-03-14 12:52:21  Jeep_Grand_Cherokee_\"Overland\"  ...       12         4\n",
              "3  2016-03-17 16:54:04              GOLF_4_1_4__3TÜRER  ...       15         5\n",
              "4  2016-03-31 17:25:20  Skoda_Fabia_1.4_TDI_PD_Classic  ...        8         5\n",
              "\n",
              "[5 rows x 27 columns]"
            ]
          },
          "metadata": {
            "tags": []
          },
          "execution_count": 3
        }
      ]
    },
    {
      "cell_type": "code",
      "metadata": {
        "colab": {
          "base_uri": "https://localhost:8080/"
        },
        "id": "bWwlngb43SqV",
        "outputId": "83b927d8-838f-435b-cde0-b03aa0b762dc"
      },
      "source": [
        "# size of the dataset\n",
        "car_data.shape"
      ],
      "execution_count": 6,
      "outputs": [
        {
          "output_type": "execute_result",
          "data": {
            "text/plain": [
              "(313687, 27)"
            ]
          },
          "metadata": {
            "tags": []
          },
          "execution_count": 6
        }
      ]
    },
    {
      "cell_type": "markdown",
      "metadata": {
        "id": "-orQmqs9BUxd"
      },
      "source": [
        "So, the database has 313,687 rows and 27 columns."
      ]
    },
    {
      "cell_type": "code",
      "metadata": {
        "colab": {
          "base_uri": "https://localhost:8080/"
        },
        "id": "UjWVBc2G3xwx",
        "outputId": "7023ef17-05d1-4659-8f79-3fdd56dae8da"
      },
      "source": [
        "# Column names and their datatypes\n",
        "car_data.dtypes"
      ],
      "execution_count": 8,
      "outputs": [
        {
          "output_type": "execute_result",
          "data": {
            "text/plain": [
              "dateCrawled            object\n",
              "name                   object\n",
              "seller                 object\n",
              "offerType              object\n",
              "price                   int64\n",
              "abtest                 object\n",
              "vehicleType            object\n",
              "yearOfRegistration      int64\n",
              "gearbox                object\n",
              "powerPS                 int64\n",
              "model                  object\n",
              "kilometer               int64\n",
              "monthOfRegistration    object\n",
              "fuelType               object\n",
              "brand                  object\n",
              "notRepairedDamage      object\n",
              "dateCreated            object\n",
              "postalCode              int64\n",
              "lastSeen               object\n",
              "yearOfCreation          int64\n",
              "yearCrawled             int64\n",
              "monthOfCreation        object\n",
              "monthCrawled           object\n",
              "NoOfDaysOnline          int64\n",
              "NoOfHrsOnline           int64\n",
              "yearsOld                int64\n",
              "monthsOld               int64\n",
              "dtype: object"
            ]
          },
          "metadata": {
            "tags": []
          },
          "execution_count": 8
        }
      ]
    },
    {
      "cell_type": "markdown",
      "metadata": {
        "id": "2l2xVDQwBqfn"
      },
      "source": [
        "**the datatype of dateCrawled, dateCreated, lastSeen can be converted from object to date as they are date fields.**"
      ]
    },
    {
      "cell_type": "code",
      "metadata": {
        "id": "5j4t5Jmw7_D8"
      },
      "source": [
        "car_data.dateCrawled = pd.to_datetime(car_data.dateCrawled)\n",
        "car_data.dateCreated = pd.to_datetime(car_data.dateCreated)\n",
        "car_data.lastSeen = pd.to_datetime(car_data.lastSeen)"
      ],
      "execution_count": 11,
      "outputs": []
    },
    {
      "cell_type": "code",
      "metadata": {
        "id": "ZrVf4gbXCaEZ"
      },
      "source": [
        "# Setting dateCRawled column as Dataframe index\n",
        "car_data.set_index('dateCrawled', inplace=True)\n",
        "\n",
        "# Sort the DataFrame by the index\n",
        "car_data.sort_index(inplace=True)"
      ],
      "execution_count": 13,
      "outputs": []
    },
    {
      "cell_type": "code",
      "metadata": {
        "colab": {
          "base_uri": "https://localhost:8080/"
        },
        "id": "w2jMktzqDbEm",
        "outputId": "14e3d02d-c415-44bd-ee41-8bd954505da3"
      },
      "source": [
        "print('Data crawling start date: ', car_data.index[0])\n",
        "print('Data crawling end date: ', car_data.index[-1])\n",
        "print(\"Total days: \", car_data.index[-1]- car_data.index[0])"
      ],
      "execution_count": 14,
      "outputs": [
        {
          "output_type": "stream",
          "text": [
            "Data crawling start date:  2016-03-05 14:06:22\n",
            "Data crawling end date:  2016-04-07 14:36:58\n",
            "Total days:  33 days 00:30:36\n"
          ],
          "name": "stdout"
        }
      ]
    },
    {
      "cell_type": "markdown",
      "metadata": {
        "id": "obuxFZItEpsq"
      },
      "source": [
        "# **Data Cleaning**\n",
        "**Check for null, missing and duplicates in the data**\n"
      ]
    },
    {
      "cell_type": "code",
      "metadata": {
        "colab": {
          "base_uri": "https://localhost:8080/"
        },
        "id": "LuVelzbMEoFn",
        "outputId": "36444162-329a-46d0-8724-c8996f3a8497"
      },
      "source": [
        "car_data.info()"
      ],
      "execution_count": 16,
      "outputs": [
        {
          "output_type": "stream",
          "text": [
            "<class 'pandas.core.frame.DataFrame'>\n",
            "DatetimeIndex: 313687 entries, 2016-03-05 14:06:22 to 2016-04-07 14:36:58\n",
            "Data columns (total 26 columns):\n",
            " #   Column               Non-Null Count   Dtype         \n",
            "---  ------               --------------   -----         \n",
            " 0   name                 313687 non-null  object        \n",
            " 1   seller               313687 non-null  object        \n",
            " 2   offerType            313687 non-null  object        \n",
            " 3   price                313687 non-null  int64         \n",
            " 4   abtest               313687 non-null  object        \n",
            " 5   vehicleType          313687 non-null  object        \n",
            " 6   yearOfRegistration   313687 non-null  int64         \n",
            " 7   gearbox              313687 non-null  object        \n",
            " 8   powerPS              313687 non-null  int64         \n",
            " 9   model                313687 non-null  object        \n",
            " 10  kilometer            313687 non-null  int64         \n",
            " 11  monthOfRegistration  313687 non-null  object        \n",
            " 12  fuelType             313498 non-null  object        \n",
            " 13  brand                313687 non-null  object        \n",
            " 14  notRepairedDamage    313687 non-null  object        \n",
            " 15  dateCreated          313687 non-null  datetime64[ns]\n",
            " 16  postalCode           313687 non-null  int64         \n",
            " 17  lastSeen             313687 non-null  datetime64[ns]\n",
            " 18  yearOfCreation       313687 non-null  int64         \n",
            " 19  yearCrawled          313687 non-null  int64         \n",
            " 20  monthOfCreation      313687 non-null  object        \n",
            " 21  monthCrawled         313687 non-null  object        \n",
            " 22  NoOfDaysOnline       313687 non-null  int64         \n",
            " 23  NoOfHrsOnline        313687 non-null  int64         \n",
            " 24  yearsOld             313687 non-null  int64         \n",
            " 25  monthsOld            313687 non-null  int64         \n",
            "dtypes: datetime64[ns](2), int64(11), object(13)\n",
            "memory usage: 64.6+ MB\n"
          ],
          "name": "stdout"
        }
      ]
    },
    {
      "cell_type": "markdown",
      "metadata": {
        "id": "OYrlXuObFj6E"
      },
      "source": [
        "**The only column containing null values is fuelType as the count of non null values(313498) is less than that of total rows(313687).**"
      ]
    },
    {
      "cell_type": "code",
      "metadata": {
        "colab": {
          "base_uri": "https://localhost:8080/"
        },
        "id": "M5B9EWEKEOhk",
        "outputId": "c2a8d000-f2e0-4935-abe7-94bae42d70ba"
      },
      "source": [
        "# Checking missing values\n",
        "car_data.isnull().any()"
      ],
      "execution_count": 18,
      "outputs": [
        {
          "output_type": "execute_result",
          "data": {
            "text/plain": [
              "name                   False\n",
              "seller                 False\n",
              "offerType              False\n",
              "price                  False\n",
              "abtest                 False\n",
              "vehicleType            False\n",
              "yearOfRegistration     False\n",
              "gearbox                False\n",
              "powerPS                False\n",
              "model                  False\n",
              "kilometer              False\n",
              "monthOfRegistration    False\n",
              "fuelType                True\n",
              "brand                  False\n",
              "notRepairedDamage      False\n",
              "dateCreated            False\n",
              "postalCode             False\n",
              "lastSeen               False\n",
              "yearOfCreation         False\n",
              "yearCrawled            False\n",
              "monthOfCreation        False\n",
              "monthCrawled           False\n",
              "NoOfDaysOnline         False\n",
              "NoOfHrsOnline          False\n",
              "yearsOld               False\n",
              "monthsOld              False\n",
              "dtype: bool"
            ]
          },
          "metadata": {
            "tags": []
          },
          "execution_count": 18
        }
      ]
    },
    {
      "cell_type": "code",
      "metadata": {
        "colab": {
          "base_uri": "https://localhost:8080/"
        },
        "id": "7fYgRvouG54k",
        "outputId": "8db4d458-dbac-4516-ebfe-2c06730f6d31"
      },
      "source": [
        "car_data.fuelType.isnull().sum()"
      ],
      "execution_count": 20,
      "outputs": [
        {
          "output_type": "execute_result",
          "data": {
            "text/plain": [
              "189"
            ]
          },
          "metadata": {
            "tags": []
          },
          "execution_count": 20
        }
      ]
    },
    {
      "cell_type": "markdown",
      "metadata": {
        "id": "lLPlKOBWJiPL"
      },
      "source": [
        "**There are 189 missing values in fuelType column Removing the rows with missing fuelType values.**"
      ]
    },
    {
      "cell_type": "code",
      "metadata": {
        "id": "db6ZdqwIIWOt"
      },
      "source": [
        "car_data = car_data[car_data.fuelType.notnull()]"
      ],
      "execution_count": 21,
      "outputs": []
    },
    {
      "cell_type": "code",
      "metadata": {
        "colab": {
          "base_uri": "https://localhost:8080/"
        },
        "id": "upUPRV59zbAO",
        "outputId": "4d5039a6-a1d4-44cc-9cab-35f1689933d1"
      },
      "source": [
        "car_data.duplicated().sum()"
      ],
      "execution_count": 24,
      "outputs": [
        {
          "output_type": "execute_result",
          "data": {
            "text/plain": [
              "25"
            ]
          },
          "metadata": {
            "tags": []
          },
          "execution_count": 24
        }
      ]
    },
    {
      "cell_type": "code",
      "metadata": {
        "id": "37LBJtSDzdCK"
      },
      "source": [
        ""
      ],
      "execution_count": null,
      "outputs": []
    }
  ]
}